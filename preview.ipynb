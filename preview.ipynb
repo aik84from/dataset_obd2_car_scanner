{
 "cells": [
  {
   "cell_type": "markdown",
   "id": "48f74e0d-c0fc-41b2-82f3-bbb0c2d5dda2",
   "metadata": {},
   "source": [
    "# Dataset\n",
    "\n",
    "## OBD2 Car diagnostic scanner\n",
    "\n",
    " * total_seconds (s)\n",
    " * speed (km/h)\n",
    " * distance (m)\n",
    "\n",
    "## Author\n",
    "\n",
    "Kalinin Alexandr\n",
    "\n",
    "Email: fantaziya84@rambler.ru"
   ]
  },
  {
   "cell_type": "code",
   "execution_count": 1,
   "id": "39cb97ac-7d71-4e5b-ae22-32193a13632b",
   "metadata": {},
   "outputs": [],
   "source": [
    "import numpy as np\n",
    "import pandas as pd\n",
    "import matplotlib.pyplot as plt"
   ]
  },
  {
   "cell_type": "code",
   "execution_count": 2,
   "id": "11670aea-2353-44f0-a73c-a7d38f3ecd29",
   "metadata": {},
   "outputs": [],
   "source": [
    "plt.style.use(\"bmh\")"
   ]
  },
  {
   "cell_type": "code",
   "execution_count": 3,
   "id": "c04cc996-0be6-4851-b990-0aed95e7b984",
   "metadata": {},
   "outputs": [],
   "source": [
    "df = pd.read_csv(\"./data/obd2_car_diagnostic_scanner_2024_04_28.csv\")"
   ]
  },
  {
   "cell_type": "code",
   "execution_count": 4,
   "id": "3341609f-fd54-4331-9f82-0e75766ae2c9",
   "metadata": {},
   "outputs": [],
   "source": [
    "report = df[df[\"point\"] == 1].copy(deep=True)"
   ]
  },
  {
   "cell_type": "code",
   "execution_count": 5,
   "id": "57639d2d-e00a-4d0e-b0e3-6afcb2dc37b4",
   "metadata": {},
   "outputs": [],
   "source": [
    "report[\"meter_per_second\"] = report[\"speed\"] / 3.6\n",
    "report[\"meter_per_minute\"] = report[\"meter_per_second\"] * 60"
   ]
  },
  {
   "cell_type": "code",
   "execution_count": 6,
   "id": "6c754f0f-d2af-419e-b91a-ae8a21b91cc1",
   "metadata": {},
   "outputs": [
    {
     "data": {
      "text/html": [
       "<div>\n",
       "<style scoped>\n",
       "    .dataframe tbody tr th:only-of-type {\n",
       "        vertical-align: middle;\n",
       "    }\n",
       "\n",
       "    .dataframe tbody tr th {\n",
       "        vertical-align: top;\n",
       "    }\n",
       "\n",
       "    .dataframe thead th {\n",
       "        text-align: right;\n",
       "    }\n",
       "</style>\n",
       "<table border=\"1\" class=\"dataframe\">\n",
       "  <thead>\n",
       "    <tr style=\"text-align: right;\">\n",
       "      <th></th>\n",
       "      <th>total_seconds</th>\n",
       "      <th>distance</th>\n",
       "      <th>speed</th>\n",
       "      <th>meter_per_second</th>\n",
       "      <th>meter_per_minute</th>\n",
       "    </tr>\n",
       "  </thead>\n",
       "  <tbody>\n",
       "    <tr>\n",
       "      <th>0</th>\n",
       "      <td>0.000</td>\n",
       "      <td>0</td>\n",
       "      <td>0</td>\n",
       "      <td>0.000000</td>\n",
       "      <td>0.000000</td>\n",
       "    </tr>\n",
       "    <tr>\n",
       "      <th>24</th>\n",
       "      <td>1.635</td>\n",
       "      <td>2</td>\n",
       "      <td>10</td>\n",
       "      <td>2.777778</td>\n",
       "      <td>166.666667</td>\n",
       "    </tr>\n",
       "    <tr>\n",
       "      <th>51</th>\n",
       "      <td>3.606</td>\n",
       "      <td>10</td>\n",
       "      <td>20</td>\n",
       "      <td>5.555556</td>\n",
       "      <td>333.333333</td>\n",
       "    </tr>\n",
       "    <tr>\n",
       "      <th>74</th>\n",
       "      <td>5.293</td>\n",
       "      <td>22</td>\n",
       "      <td>30</td>\n",
       "      <td>8.333333</td>\n",
       "      <td>500.000000</td>\n",
       "    </tr>\n",
       "    <tr>\n",
       "      <th>102</th>\n",
       "      <td>7.248</td>\n",
       "      <td>41</td>\n",
       "      <td>40</td>\n",
       "      <td>11.111111</td>\n",
       "      <td>666.666667</td>\n",
       "    </tr>\n",
       "    <tr>\n",
       "      <th>138</th>\n",
       "      <td>9.861</td>\n",
       "      <td>74</td>\n",
       "      <td>50</td>\n",
       "      <td>13.888889</td>\n",
       "      <td>833.333333</td>\n",
       "    </tr>\n",
       "    <tr>\n",
       "      <th>172</th>\n",
       "      <td>12.237</td>\n",
       "      <td>110</td>\n",
       "      <td>60</td>\n",
       "      <td>16.666667</td>\n",
       "      <td>1000.000000</td>\n",
       "    </tr>\n",
       "    <tr>\n",
       "      <th>211</th>\n",
       "      <td>15.013</td>\n",
       "      <td>160</td>\n",
       "      <td>70</td>\n",
       "      <td>19.444444</td>\n",
       "      <td>1166.666667</td>\n",
       "    </tr>\n",
       "    <tr>\n",
       "      <th>255</th>\n",
       "      <td>18.050</td>\n",
       "      <td>223</td>\n",
       "      <td>80</td>\n",
       "      <td>22.222222</td>\n",
       "      <td>1333.333333</td>\n",
       "    </tr>\n",
       "  </tbody>\n",
       "</table>\n",
       "</div>"
      ],
      "text/plain": [
       "     total_seconds  distance  speed  meter_per_second  meter_per_minute\n",
       "0            0.000         0      0          0.000000          0.000000\n",
       "24           1.635         2     10          2.777778        166.666667\n",
       "51           3.606        10     20          5.555556        333.333333\n",
       "74           5.293        22     30          8.333333        500.000000\n",
       "102          7.248        41     40         11.111111        666.666667\n",
       "138          9.861        74     50         13.888889        833.333333\n",
       "172         12.237       110     60         16.666667       1000.000000\n",
       "211         15.013       160     70         19.444444       1166.666667\n",
       "255         18.050       223     80         22.222222       1333.333333"
      ]
     },
     "execution_count": 6,
     "metadata": {},
     "output_type": "execute_result"
    }
   ],
   "source": [
    "report[[\"total_seconds\", \"distance\", \"speed\", \"meter_per_second\", \"meter_per_minute\"]]"
   ]
  },
  {
   "cell_type": "code",
   "execution_count": 7,
   "id": "1e334ea0-acf3-4304-8099-e3ae327f0f49",
   "metadata": {},
   "outputs": [
    {
     "data": {
      "image/png": "[encoded data removed]",
      "text/plain": [
       "<Figure size 432x288 with 1 Axes>"
      ]
     },
     "metadata": {
      "needs_background": "light"
     },
     "output_type": "display_data"
    }
   ],
   "source": [
    "df.plot(x=\"total_seconds\", y=\"speed\")\n",
    "plt.show()"
   ]
  },
  {
   "cell_type": "code",
   "execution_count": 8,
   "id": "78fce4c9-8440-44f3-942a-00e80eac2f7d",
   "metadata": {},
   "outputs": [
    {
     "data": {
      "image/png": "[encoded data removed]",
      "text/plain": [
       "<Figure size 432x288 with 1 Axes>"
      ]
     },
     "metadata": {
      "needs_background": "light"
     },
     "output_type": "display_data"
    }
   ],
   "source": [
    "df.plot(x=\"total_seconds\", y=\"distance\")\n",
    "plt.show()"
   ]
  },
  {
   "cell_type": "code",
   "execution_count": null,
   "id": "9bc326f8-4cdd-49e2-8edb-ac932a6bff28",
   "metadata": {},
   "outputs": [],
   "source": []
  }
 ],
 "metadata": {
  "kernelspec": {
   "display_name": "Python 3 (ipykernel)",
   "language": "python",
   "name": "python3"
  },
  "language_info": {
   "codemirror_mode": {
    "name": "ipython",
    "version": 3
   },
   "file_extension": ".py",
   "mimetype": "text/x-python",
   "name": "python",
   "nbconvert_exporter": "python",
   "pygments_lexer": "ipython3",
   "version": "3.10.11"
  }
 },
 "nbformat": 4,
 "nbformat_minor": 5
}
